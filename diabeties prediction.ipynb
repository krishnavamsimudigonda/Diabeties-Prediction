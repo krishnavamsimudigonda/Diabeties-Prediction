{
 "cells": [
  {
   "cell_type": "code",
   "id": "initial_id",
   "metadata": {
    "collapsed": true,
    "ExecuteTime": {
     "end_time": "2024-07-25T14:04:04.824957Z",
     "start_time": "2024-07-25T14:04:04.818722Z"
    }
   },
   "source": [
    "from sklearn.cluster import KMeans\n",
    "from sklearn.datasets import load_diabetes\n",
    "from sklearn.datasets import fetch_openml\n",
    "   "
   ],
   "outputs": [],
   "execution_count": 540
  },
  {
   "metadata": {
    "ExecuteTime": {
     "end_time": "2024-07-25T14:04:04.933991Z",
     "start_time": "2024-07-25T14:04:04.871838Z"
    }
   },
   "cell_type": "code",
   "source": [
    "X,Y = load_diabetes(return_X_y=True)\n",
    "housing = fetch_openml(name=\"house_prices\", as_frame=True)"
   ],
   "id": "b6f82e9ac7699942",
   "outputs": [],
   "execution_count": 541
  },
  {
   "metadata": {
    "ExecuteTime": {
     "end_time": "2024-07-25T14:04:04.953316Z",
     "start_time": "2024-07-25T14:04:04.948955Z"
    }
   },
   "cell_type": "code",
   "source": [
    "from sklearn.neighbors import KNeighborsRegressor\n",
    "from sklearn. linear_model import LinearRegression"
   ],
   "id": "b5d36413ceecf9f4",
   "outputs": [],
   "execution_count": 542
  },
  {
   "metadata": {
    "ExecuteTime": {
     "end_time": "2024-07-25T14:04:04.982172Z",
     "start_time": "2024-07-25T14:04:04.978256Z"
    }
   },
   "cell_type": "code",
   "source": "from sklearn.linear_model import LinearRegression",
   "id": "a19d60949a0c4504",
   "outputs": [],
   "execution_count": 543
  },
  {
   "metadata": {
    "ExecuteTime": {
     "end_time": "2024-07-25T14:04:04.991406Z",
     "start_time": "2024-07-25T14:04:04.985174Z"
    }
   },
   "cell_type": "code",
   "source": "mod=LinearRegression()",
   "id": "2f5eb72f3825aaf6",
   "outputs": [],
   "execution_count": 544
  },
  {
   "metadata": {
    "ExecuteTime": {
     "end_time": "2024-07-25T14:04:05.023764Z",
     "start_time": "2024-07-25T14:04:05.013352Z"
    }
   },
   "cell_type": "code",
   "source": "mod.fit(X,Y) ",
   "id": "411db626637f554a",
   "outputs": [
    {
     "data": {
      "text/plain": [
       "LinearRegression()"
      ],
      "text/html": [
       "<style>#sk-container-id-35 {\n",
       "  /* Definition of color scheme common for light and dark mode */\n",
       "  --sklearn-color-text: black;\n",
       "  --sklearn-color-line: gray;\n",
       "  /* Definition of color scheme for unfitted estimators */\n",
       "  --sklearn-color-unfitted-level-0: #fff5e6;\n",
       "  --sklearn-color-unfitted-level-1: #f6e4d2;\n",
       "  --sklearn-color-unfitted-level-2: #ffe0b3;\n",
       "  --sklearn-color-unfitted-level-3: chocolate;\n",
       "  /* Definition of color scheme for fitted estimators */\n",
       "  --sklearn-color-fitted-level-0: #f0f8ff;\n",
       "  --sklearn-color-fitted-level-1: #d4ebff;\n",
       "  --sklearn-color-fitted-level-2: #b3dbfd;\n",
       "  --sklearn-color-fitted-level-3: cornflowerblue;\n",
       "\n",
       "  /* Specific color for light theme */\n",
       "  --sklearn-color-text-on-default-background: var(--sg-text-color, var(--theme-code-foreground, var(--jp-content-font-color1, black)));\n",
       "  --sklearn-color-background: var(--sg-background-color, var(--theme-background, var(--jp-layout-color0, white)));\n",
       "  --sklearn-color-border-box: var(--sg-text-color, var(--theme-code-foreground, var(--jp-content-font-color1, black)));\n",
       "  --sklearn-color-icon: #696969;\n",
       "\n",
       "  @media (prefers-color-scheme: dark) {\n",
       "    /* Redefinition of color scheme for dark theme */\n",
       "    --sklearn-color-text-on-default-background: var(--sg-text-color, var(--theme-code-foreground, var(--jp-content-font-color1, white)));\n",
       "    --sklearn-color-background: var(--sg-background-color, var(--theme-background, var(--jp-layout-color0, #111)));\n",
       "    --sklearn-color-border-box: var(--sg-text-color, var(--theme-code-foreground, var(--jp-content-font-color1, white)));\n",
       "    --sklearn-color-icon: #878787;\n",
       "  }\n",
       "}\n",
       "\n",
       "#sk-container-id-35 {\n",
       "  color: var(--sklearn-color-text);\n",
       "}\n",
       "\n",
       "#sk-container-id-35 pre {\n",
       "  padding: 0;\n",
       "}\n",
       "\n",
       "#sk-container-id-35 input.sk-hidden--visually {\n",
       "  border: 0;\n",
       "  clip: rect(1px 1px 1px 1px);\n",
       "  clip: rect(1px, 1px, 1px, 1px);\n",
       "  height: 1px;\n",
       "  margin: -1px;\n",
       "  overflow: hidden;\n",
       "  padding: 0;\n",
       "  position: absolute;\n",
       "  width: 1px;\n",
       "}\n",
       "\n",
       "#sk-container-id-35 div.sk-dashed-wrapped {\n",
       "  border: 1px dashed var(--sklearn-color-line);\n",
       "  margin: 0 0.4em 0.5em 0.4em;\n",
       "  box-sizing: border-box;\n",
       "  padding-bottom: 0.4em;\n",
       "  background-color: var(--sklearn-color-background);\n",
       "}\n",
       "\n",
       "#sk-container-id-35 div.sk-container {\n",
       "  /* jupyter's `normalize.less` sets `[hidden] { display: none; }`\n",
       "     but bootstrap.min.css set `[hidden] { display: none !important; }`\n",
       "     so we also need the `!important` here to be able to override the\n",
       "     default hidden behavior on the sphinx rendered scikit-learn.org.\n",
       "     See: https://github.com/scikit-learn/scikit-learn/issues/21755 */\n",
       "  display: inline-block !important;\n",
       "  position: relative;\n",
       "}\n",
       "\n",
       "#sk-container-id-35 div.sk-text-repr-fallback {\n",
       "  display: none;\n",
       "}\n",
       "\n",
       "div.sk-parallel-item,\n",
       "div.sk-serial,\n",
       "div.sk-item {\n",
       "  /* draw centered vertical line to link estimators */\n",
       "  background-image: linear-gradient(var(--sklearn-color-text-on-default-background), var(--sklearn-color-text-on-default-background));\n",
       "  background-size: 2px 100%;\n",
       "  background-repeat: no-repeat;\n",
       "  background-position: center center;\n",
       "}\n",
       "\n",
       "/* Parallel-specific style estimator block */\n",
       "\n",
       "#sk-container-id-35 div.sk-parallel-item::after {\n",
       "  content: \"\";\n",
       "  width: 100%;\n",
       "  border-bottom: 2px solid var(--sklearn-color-text-on-default-background);\n",
       "  flex-grow: 1;\n",
       "}\n",
       "\n",
       "#sk-container-id-35 div.sk-parallel {\n",
       "  display: flex;\n",
       "  align-items: stretch;\n",
       "  justify-content: center;\n",
       "  background-color: var(--sklearn-color-background);\n",
       "  position: relative;\n",
       "}\n",
       "\n",
       "#sk-container-id-35 div.sk-parallel-item {\n",
       "  display: flex;\n",
       "  flex-direction: column;\n",
       "}\n",
       "\n",
       "#sk-container-id-35 div.sk-parallel-item:first-child::after {\n",
       "  align-self: flex-end;\n",
       "  width: 50%;\n",
       "}\n",
       "\n",
       "#sk-container-id-35 div.sk-parallel-item:last-child::after {\n",
       "  align-self: flex-start;\n",
       "  width: 50%;\n",
       "}\n",
       "\n",
       "#sk-container-id-35 div.sk-parallel-item:only-child::after {\n",
       "  width: 0;\n",
       "}\n",
       "\n",
       "/* Serial-specific style estimator block */\n",
       "\n",
       "#sk-container-id-35 div.sk-serial {\n",
       "  display: flex;\n",
       "  flex-direction: column;\n",
       "  align-items: center;\n",
       "  background-color: var(--sklearn-color-background);\n",
       "  padding-right: 1em;\n",
       "  padding-left: 1em;\n",
       "}\n",
       "\n",
       "\n",
       "/* Toggleable style: style used for estimator/Pipeline/ColumnTransformer box that is\n",
       "clickable and can be expanded/collapsed.\n",
       "- Pipeline and ColumnTransformer use this feature and define the default style\n",
       "- Estimators will overwrite some part of the style using the `sk-estimator` class\n",
       "*/\n",
       "\n",
       "/* Pipeline and ColumnTransformer style (default) */\n",
       "\n",
       "#sk-container-id-35 div.sk-toggleable {\n",
       "  /* Default theme specific background. It is overwritten whether we have a\n",
       "  specific estimator or a Pipeline/ColumnTransformer */\n",
       "  background-color: var(--sklearn-color-background);\n",
       "}\n",
       "\n",
       "/* Toggleable label */\n",
       "#sk-container-id-35 label.sk-toggleable__label {\n",
       "  cursor: pointer;\n",
       "  display: block;\n",
       "  width: 100%;\n",
       "  margin-bottom: 0;\n",
       "  padding: 0.5em;\n",
       "  box-sizing: border-box;\n",
       "  text-align: center;\n",
       "}\n",
       "\n",
       "#sk-container-id-35 label.sk-toggleable__label-arrow:before {\n",
       "  /* Arrow on the left of the label */\n",
       "  content: \"▸\";\n",
       "  float: left;\n",
       "  margin-right: 0.25em;\n",
       "  color: var(--sklearn-color-icon);\n",
       "}\n",
       "\n",
       "#sk-container-id-35 label.sk-toggleable__label-arrow:hover:before {\n",
       "  color: var(--sklearn-color-text);\n",
       "}\n",
       "\n",
       "/* Toggleable content - dropdown */\n",
       "\n",
       "#sk-container-id-35 div.sk-toggleable__content {\n",
       "  max-height: 0;\n",
       "  max-width: 0;\n",
       "  overflow: hidden;\n",
       "  text-align: left;\n",
       "  /* unfitted */\n",
       "  background-color: var(--sklearn-color-unfitted-level-0);\n",
       "}\n",
       "\n",
       "#sk-container-id-35 div.sk-toggleable__content.fitted {\n",
       "  /* fitted */\n",
       "  background-color: var(--sklearn-color-fitted-level-0);\n",
       "}\n",
       "\n",
       "#sk-container-id-35 div.sk-toggleable__content pre {\n",
       "  margin: 0.2em;\n",
       "  border-radius: 0.25em;\n",
       "  color: var(--sklearn-color-text);\n",
       "  /* unfitted */\n",
       "  background-color: var(--sklearn-color-unfitted-level-0);\n",
       "}\n",
       "\n",
       "#sk-container-id-35 div.sk-toggleable__content.fitted pre {\n",
       "  /* unfitted */\n",
       "  background-color: var(--sklearn-color-fitted-level-0);\n",
       "}\n",
       "\n",
       "#sk-container-id-35 input.sk-toggleable__control:checked~div.sk-toggleable__content {\n",
       "  /* Expand drop-down */\n",
       "  max-height: 200px;\n",
       "  max-width: 100%;\n",
       "  overflow: auto;\n",
       "}\n",
       "\n",
       "#sk-container-id-35 input.sk-toggleable__control:checked~label.sk-toggleable__label-arrow:before {\n",
       "  content: \"▾\";\n",
       "}\n",
       "\n",
       "/* Pipeline/ColumnTransformer-specific style */\n",
       "\n",
       "#sk-container-id-35 div.sk-label input.sk-toggleable__control:checked~label.sk-toggleable__label {\n",
       "  color: var(--sklearn-color-text);\n",
       "  background-color: var(--sklearn-color-unfitted-level-2);\n",
       "}\n",
       "\n",
       "#sk-container-id-35 div.sk-label.fitted input.sk-toggleable__control:checked~label.sk-toggleable__label {\n",
       "  background-color: var(--sklearn-color-fitted-level-2);\n",
       "}\n",
       "\n",
       "/* Estimator-specific style */\n",
       "\n",
       "/* Colorize estimator box */\n",
       "#sk-container-id-35 div.sk-estimator input.sk-toggleable__control:checked~label.sk-toggleable__label {\n",
       "  /* unfitted */\n",
       "  background-color: var(--sklearn-color-unfitted-level-2);\n",
       "}\n",
       "\n",
       "#sk-container-id-35 div.sk-estimator.fitted input.sk-toggleable__control:checked~label.sk-toggleable__label {\n",
       "  /* fitted */\n",
       "  background-color: var(--sklearn-color-fitted-level-2);\n",
       "}\n",
       "\n",
       "#sk-container-id-35 div.sk-label label.sk-toggleable__label,\n",
       "#sk-container-id-35 div.sk-label label {\n",
       "  /* The background is the default theme color */\n",
       "  color: var(--sklearn-color-text-on-default-background);\n",
       "}\n",
       "\n",
       "/* On hover, darken the color of the background */\n",
       "#sk-container-id-35 div.sk-label:hover label.sk-toggleable__label {\n",
       "  color: var(--sklearn-color-text);\n",
       "  background-color: var(--sklearn-color-unfitted-level-2);\n",
       "}\n",
       "\n",
       "/* Label box, darken color on hover, fitted */\n",
       "#sk-container-id-35 div.sk-label.fitted:hover label.sk-toggleable__label.fitted {\n",
       "  color: var(--sklearn-color-text);\n",
       "  background-color: var(--sklearn-color-fitted-level-2);\n",
       "}\n",
       "\n",
       "/* Estimator label */\n",
       "\n",
       "#sk-container-id-35 div.sk-label label {\n",
       "  font-family: monospace;\n",
       "  font-weight: bold;\n",
       "  display: inline-block;\n",
       "  line-height: 1.2em;\n",
       "}\n",
       "\n",
       "#sk-container-id-35 div.sk-label-container {\n",
       "  text-align: center;\n",
       "}\n",
       "\n",
       "/* Estimator-specific */\n",
       "#sk-container-id-35 div.sk-estimator {\n",
       "  font-family: monospace;\n",
       "  border: 1px dotted var(--sklearn-color-border-box);\n",
       "  border-radius: 0.25em;\n",
       "  box-sizing: border-box;\n",
       "  margin-bottom: 0.5em;\n",
       "  /* unfitted */\n",
       "  background-color: var(--sklearn-color-unfitted-level-0);\n",
       "}\n",
       "\n",
       "#sk-container-id-35 div.sk-estimator.fitted {\n",
       "  /* fitted */\n",
       "  background-color: var(--sklearn-color-fitted-level-0);\n",
       "}\n",
       "\n",
       "/* on hover */\n",
       "#sk-container-id-35 div.sk-estimator:hover {\n",
       "  /* unfitted */\n",
       "  background-color: var(--sklearn-color-unfitted-level-2);\n",
       "}\n",
       "\n",
       "#sk-container-id-35 div.sk-estimator.fitted:hover {\n",
       "  /* fitted */\n",
       "  background-color: var(--sklearn-color-fitted-level-2);\n",
       "}\n",
       "\n",
       "/* Specification for estimator info (e.g. \"i\" and \"?\") */\n",
       "\n",
       "/* Common style for \"i\" and \"?\" */\n",
       "\n",
       ".sk-estimator-doc-link,\n",
       "a:link.sk-estimator-doc-link,\n",
       "a:visited.sk-estimator-doc-link {\n",
       "  float: right;\n",
       "  font-size: smaller;\n",
       "  line-height: 1em;\n",
       "  font-family: monospace;\n",
       "  background-color: var(--sklearn-color-background);\n",
       "  border-radius: 1em;\n",
       "  height: 1em;\n",
       "  width: 1em;\n",
       "  text-decoration: none !important;\n",
       "  margin-left: 1ex;\n",
       "  /* unfitted */\n",
       "  border: var(--sklearn-color-unfitted-level-1) 1pt solid;\n",
       "  color: var(--sklearn-color-unfitted-level-1);\n",
       "}\n",
       "\n",
       ".sk-estimator-doc-link.fitted,\n",
       "a:link.sk-estimator-doc-link.fitted,\n",
       "a:visited.sk-estimator-doc-link.fitted {\n",
       "  /* fitted */\n",
       "  border: var(--sklearn-color-fitted-level-1) 1pt solid;\n",
       "  color: var(--sklearn-color-fitted-level-1);\n",
       "}\n",
       "\n",
       "/* On hover */\n",
       "div.sk-estimator:hover .sk-estimator-doc-link:hover,\n",
       ".sk-estimator-doc-link:hover,\n",
       "div.sk-label-container:hover .sk-estimator-doc-link:hover,\n",
       ".sk-estimator-doc-link:hover {\n",
       "  /* unfitted */\n",
       "  background-color: var(--sklearn-color-unfitted-level-3);\n",
       "  color: var(--sklearn-color-background);\n",
       "  text-decoration: none;\n",
       "}\n",
       "\n",
       "div.sk-estimator.fitted:hover .sk-estimator-doc-link.fitted:hover,\n",
       ".sk-estimator-doc-link.fitted:hover,\n",
       "div.sk-label-container:hover .sk-estimator-doc-link.fitted:hover,\n",
       ".sk-estimator-doc-link.fitted:hover {\n",
       "  /* fitted */\n",
       "  background-color: var(--sklearn-color-fitted-level-3);\n",
       "  color: var(--sklearn-color-background);\n",
       "  text-decoration: none;\n",
       "}\n",
       "\n",
       "/* Span, style for the box shown on hovering the info icon */\n",
       ".sk-estimator-doc-link span {\n",
       "  display: none;\n",
       "  z-index: 9999;\n",
       "  position: relative;\n",
       "  font-weight: normal;\n",
       "  right: .2ex;\n",
       "  padding: .5ex;\n",
       "  margin: .5ex;\n",
       "  width: min-content;\n",
       "  min-width: 20ex;\n",
       "  max-width: 50ex;\n",
       "  color: var(--sklearn-color-text);\n",
       "  box-shadow: 2pt 2pt 4pt #999;\n",
       "  /* unfitted */\n",
       "  background: var(--sklearn-color-unfitted-level-0);\n",
       "  border: .5pt solid var(--sklearn-color-unfitted-level-3);\n",
       "}\n",
       "\n",
       ".sk-estimator-doc-link.fitted span {\n",
       "  /* fitted */\n",
       "  background: var(--sklearn-color-fitted-level-0);\n",
       "  border: var(--sklearn-color-fitted-level-3);\n",
       "}\n",
       "\n",
       ".sk-estimator-doc-link:hover span {\n",
       "  display: block;\n",
       "}\n",
       "\n",
       "/* \"?\"-specific style due to the `<a>` HTML tag */\n",
       "\n",
       "#sk-container-id-35 a.estimator_doc_link {\n",
       "  float: right;\n",
       "  font-size: 1rem;\n",
       "  line-height: 1em;\n",
       "  font-family: monospace;\n",
       "  background-color: var(--sklearn-color-background);\n",
       "  border-radius: 1rem;\n",
       "  height: 1rem;\n",
       "  width: 1rem;\n",
       "  text-decoration: none;\n",
       "  /* unfitted */\n",
       "  color: var(--sklearn-color-unfitted-level-1);\n",
       "  border: var(--sklearn-color-unfitted-level-1) 1pt solid;\n",
       "}\n",
       "\n",
       "#sk-container-id-35 a.estimator_doc_link.fitted {\n",
       "  /* fitted */\n",
       "  border: var(--sklearn-color-fitted-level-1) 1pt solid;\n",
       "  color: var(--sklearn-color-fitted-level-1);\n",
       "}\n",
       "\n",
       "/* On hover */\n",
       "#sk-container-id-35 a.estimator_doc_link:hover {\n",
       "  /* unfitted */\n",
       "  background-color: var(--sklearn-color-unfitted-level-3);\n",
       "  color: var(--sklearn-color-background);\n",
       "  text-decoration: none;\n",
       "}\n",
       "\n",
       "#sk-container-id-35 a.estimator_doc_link.fitted:hover {\n",
       "  /* fitted */\n",
       "  background-color: var(--sklearn-color-fitted-level-3);\n",
       "}\n",
       "</style><div id=\"sk-container-id-35\" class=\"sk-top-container\"><div class=\"sk-text-repr-fallback\"><pre>LinearRegression()</pre><b>In a Jupyter environment, please rerun this cell to show the HTML representation or trust the notebook. <br />On GitHub, the HTML representation is unable to render, please try loading this page with nbviewer.org.</b></div><div class=\"sk-container\" hidden><div class=\"sk-item\"><div class=\"sk-estimator fitted sk-toggleable\"><input class=\"sk-toggleable__control sk-hidden--visually\" id=\"sk-estimator-id-35\" type=\"checkbox\" checked><label for=\"sk-estimator-id-35\" class=\"sk-toggleable__label fitted sk-toggleable__label-arrow fitted\">&nbsp;&nbsp;LinearRegression<a class=\"sk-estimator-doc-link fitted\" rel=\"noreferrer\" target=\"_blank\" href=\"https://scikit-learn.org/1.5/modules/generated/sklearn.linear_model.LinearRegression.html\">?<span>Documentation for LinearRegression</span></a><span class=\"sk-estimator-doc-link fitted\">i<span>Fitted</span></span></label><div class=\"sk-toggleable__content fitted\"><pre>LinearRegression()</pre></div> </div></div></div></div>"
      ]
     },
     "execution_count": 545,
     "metadata": {},
     "output_type": "execute_result"
    }
   ],
   "execution_count": 545
  },
  {
   "metadata": {
    "ExecuteTime": {
     "end_time": "2024-07-25T14:04:05.107385Z",
     "start_time": "2024-07-25T14:04:05.094629Z"
    }
   },
   "cell_type": "code",
   "source": "mod.predict(X)",
   "id": "c75736c17f971bfb",
   "outputs": [
    {
     "data": {
      "text/plain": [
       "array([206.11667725,  68.07103297, 176.88279035, 166.91445843,\n",
       "       128.46225834, 106.35191443,  73.89134662, 118.85423042,\n",
       "       158.80889721, 213.58462442,  97.07481511,  95.10108423,\n",
       "       115.06915952, 164.67656842, 103.07814257, 177.17487964,\n",
       "       211.7570922 , 182.84134823, 148.00326937, 124.01754066,\n",
       "       120.33362197,  85.80068961, 113.1134589 , 252.45225837,\n",
       "       165.48779206, 147.71997564,  97.12871541, 179.09358468,\n",
       "       129.05345958, 184.7811403 , 158.71516713,  69.47575778,\n",
       "       261.50385365, 112.82234716,  78.37318279,  87.66360785,\n",
       "       207.92114668, 157.87641942, 240.84708073, 136.93257456,\n",
       "       153.48044608,  74.15426666, 145.62742227,  77.82978811,\n",
       "       221.07832768, 125.21957584, 142.6029986 , 109.49562511,\n",
       "        73.14181818, 189.87117754, 157.9350104 , 169.55699526,\n",
       "       134.1851441 , 157.72539008, 139.11104979,  72.73116856,\n",
       "       207.82676612,  80.11171342, 104.08335958, 134.57871054,\n",
       "       114.23552012, 180.67628279,  61.12935368,  98.72404613,\n",
       "       113.79577026, 189.95771575, 148.98351571, 124.34152283,\n",
       "       114.8395504 , 121.99957578,  73.91017087, 236.71054289,\n",
       "       142.31126791, 124.51672384, 150.84073896, 127.75230658,\n",
       "       191.16896496,  77.05671154, 166.82164929,  91.00591229,\n",
       "       174.75156797, 122.83451589,  63.27231315, 151.99867317,\n",
       "        53.72959077, 166.0050229 ,  42.6491333 , 153.04229493,\n",
       "        80.54701716, 106.90148495,  79.93968011, 187.1672654 ,\n",
       "       192.5989033 ,  61.07398313, 107.4076912 , 125.04307496,\n",
       "       207.72402726, 214.21248827, 123.47464895, 139.16439034,\n",
       "       168.21372017, 106.92902558, 150.64748328, 157.92364009,\n",
       "       152.75958287, 116.22381927,  73.03167734, 155.67052006,\n",
       "       230.1417777 , 143.49797317,  38.09587272, 121.8593267 ,\n",
       "       152.79404663, 207.99702587, 291.23106133, 189.17571129,\n",
       "       214.02877593, 235.18106509, 165.38480498, 151.2469168 ,\n",
       "       156.57659557, 200.44066818, 219.35193167, 174.78830391,\n",
       "       169.23118221, 187.87537099,  57.49340026, 108.54836058,\n",
       "        92.68731024, 210.87347343, 245.47097701,  69.84285129,\n",
       "       113.03485904,  68.42650654, 141.69639374, 239.46240737,\n",
       "        58.37858726, 235.47123197, 254.92309543, 253.30708899,\n",
       "       155.51063293, 230.55961445, 170.44330954, 117.9953395 ,\n",
       "       178.55406527, 240.07119308, 190.33892524, 228.66470581,\n",
       "       114.24456339, 178.36552308, 209.091817  , 144.85615197,\n",
       "       200.65926745, 121.34295733, 150.50993019, 199.01879825,\n",
       "       146.27926469, 124.02163345,  85.25913019, 235.16173729,\n",
       "        82.1730808 , 231.29474031, 144.36940116, 197.04628448,\n",
       "       146.99841953,  77.18813284,  59.37368356, 262.68557988,\n",
       "       225.12900796, 220.20301952,  46.59651844,  88.10194612,\n",
       "       221.77450036,  97.25199783, 164.48838425, 119.90096817,\n",
       "       157.80220788, 223.08012207,  99.59081773, 165.84386951,\n",
       "       179.47680741,  89.83353846, 171.82590335, 158.36419935,\n",
       "       201.48185539, 186.39194958, 197.47424761,  66.57371647,\n",
       "       154.59985312, 116.18319159, 195.91755793, 128.04834496,\n",
       "        91.20395862, 140.57223765, 155.22669143, 169.70326581,\n",
       "        98.7573858 , 190.14568824, 142.51704894, 177.27157771,\n",
       "        95.30812216,  69.06191507, 164.16391317, 198.0659024 ,\n",
       "       178.25996632, 228.58539684, 160.67104137, 212.28734795,\n",
       "       222.4833913 , 172.85421282, 125.27946793, 174.72103207,\n",
       "       152.38094643,  98.58135665,  99.73771331, 262.29507095,\n",
       "       223.74033222, 221.33976142, 133.61470602, 145.42828204,\n",
       "        53.04569008, 141.82052358, 153.68617582, 125.22290891,\n",
       "        77.25168449, 230.26180811,  78.9090807 , 105.2051755 ,\n",
       "       117.99622779,  99.06233889, 166.55796947, 159.34137227,\n",
       "       158.27448255, 143.05684078, 231.55890118, 176.64724258,\n",
       "       187.23580712,  65.39099908, 190.66218796, 179.75181691,\n",
       "       234.9080532 , 119.15669025,  85.63551834, 100.8597527 ,\n",
       "       140.41937377, 101.83524022, 120.66560385,  83.0664276 ,\n",
       "       234.58488012, 245.15862773, 263.26954282, 274.87127261,\n",
       "       180.67257769, 203.05642297, 254.21625849, 118.44300922,\n",
       "       268.45369506, 104.83843473, 115.86820464, 140.45857194,\n",
       "        58.46948192, 129.83145265, 263.78607272,  45.00934573,\n",
       "       123.28890007, 131.0856888 ,  34.89181681, 138.35467112,\n",
       "       244.30103923,  89.95923929, 192.07096194, 164.33017386,\n",
       "       147.74779723, 191.89092557, 176.44360299, 158.3490221 ,\n",
       "       189.19166962, 116.58117777, 111.449754  , 117.45232726,\n",
       "       165.79598354,  97.80405886, 139.54451791,  84.17319946,\n",
       "       159.93677518, 202.39971737,  80.48131518, 146.64558568,\n",
       "        79.05314048, 191.33777472, 220.67516721, 203.75017281,\n",
       "        92.86459928, 179.15576252,  81.79874055, 152.8290929 ,\n",
       "        76.80052219,  97.79590831, 106.8371012 , 123.83461591,\n",
       "       218.13908293, 126.01937664, 206.7587966 , 230.5767944 ,\n",
       "       122.05921633, 135.67824405, 126.37042532, 148.49374458,\n",
       "        88.07147107, 138.95823614, 203.8691938 , 172.55288732,\n",
       "       122.95701477, 213.92310163, 174.89158814, 110.07294222,\n",
       "       198.36584973, 173.25229067, 162.64748776, 193.31578983,\n",
       "       191.53493643, 284.13932209, 279.31133207, 216.00823829,\n",
       "       210.08668656, 216.21612991, 157.01450004, 224.06431372,\n",
       "       189.06103154, 103.56515315, 178.70270016, 111.81862434,\n",
       "       291.00196609, 182.64651752,  79.33315426,  86.33029851,\n",
       "       249.1510082 , 174.51537682, 122.10291074, 146.2718871 ,\n",
       "       170.65483847, 183.497196  , 163.36806262, 157.03297709,\n",
       "       144.42614949, 125.30053093, 177.50251197, 104.57681546,\n",
       "       132.17560518,  95.06210623, 249.89755705,  86.23824126,\n",
       "        61.99847009, 156.81295053, 192.32218372, 133.85525804,\n",
       "        93.67249793, 202.49572354,  52.54148927, 174.82799914,\n",
       "       196.91468873, 118.06336979, 235.29941812, 165.09438096,\n",
       "       160.41761959, 162.37786753, 254.05587268, 257.23492156,\n",
       "       197.5039462 , 184.06877122,  58.62131994, 194.39216636,\n",
       "       110.775815  , 142.20991224, 128.82520996, 180.13082199,\n",
       "       211.26488624, 169.59494046, 164.33851796, 136.23374077,\n",
       "       174.51001028,  74.67587343, 246.29432383, 114.14494406,\n",
       "       111.54552901, 140.0224376 , 109.99895704,  91.37283987,\n",
       "       163.01540596,  75.16804478, 254.06119047,  53.47338214,\n",
       "        98.48397565, 100.66315554, 258.58683032, 170.67256752,\n",
       "        61.91771186, 182.31148421, 171.26948629, 189.19505093,\n",
       "       187.18494664,  87.12170524, 148.37964317, 251.35815403,\n",
       "       199.69656904, 283.63576862,  50.85911237, 172.14766276,\n",
       "       204.05976093, 174.16540137, 157.93182911, 150.50028158,\n",
       "       232.97445368, 121.5814873 , 164.54245461, 172.67625919,\n",
       "       226.7768891 , 149.46832104,  99.13924946,  80.43418456,\n",
       "       140.16148637, 191.90710484, 199.28001608, 153.63277325,\n",
       "       171.80344337, 112.11054883, 162.60002916, 129.84290324,\n",
       "       258.03100468, 100.70810916, 115.87608197, 122.53559675,\n",
       "       218.1797988 ,  60.94350929, 131.09296884, 119.48376601,\n",
       "        52.60911672, 193.01756549, 101.05581371, 121.22668124,\n",
       "       211.85894518,  53.44727472])"
      ]
     },
     "execution_count": 546,
     "metadata": {},
     "output_type": "execute_result"
    }
   ],
   "execution_count": 546
  },
  {
   "metadata": {
    "ExecuteTime": {
     "end_time": "2024-07-25T14:04:05.177898Z",
     "start_time": "2024-07-25T14:04:05.172213Z"
    }
   },
   "cell_type": "code",
   "source": "pred=mod.predict(X)",
   "id": "5349ea43e84e277d",
   "outputs": [],
   "execution_count": 547
  },
  {
   "metadata": {
    "ExecuteTime": {
     "end_time": "2024-07-25T14:04:05.238923Z",
     "start_time": "2024-07-25T14:04:05.234200Z"
    }
   },
   "cell_type": "code",
   "source": [
    "from sklearn.neighbors  import KNeighborsRegressor\n",
    "\n",
    "import matplotlib.pylab as plt\n"
   ],
   "id": "899bfad2f8fbd16c",
   "outputs": [],
   "execution_count": 548
  },
  {
   "metadata": {
    "ExecuteTime": {
     "end_time": "2024-07-25T14:04:05.452137Z",
     "start_time": "2024-07-25T14:04:05.300839Z"
    }
   },
   "cell_type": "code",
   "source": [
    "plt.scatter(pred,Y)\n",
    "plt.plot(pred,pred,color='Red')\n",
    "plt.show()\n"
   ],
   "id": "4a86aff5968cbb79",
   "outputs": [
    {
     "data": {
      "text/plain": [
       "<Figure size 640x480 with 1 Axes>"
      ],
      "image/png": "[encoded data removed]"
     },
     "metadata": {},
     "output_type": "display_data"
    }
   ],
   "execution_count": 549
  },
  {
   "metadata": {
    "ExecuteTime": {
     "end_time": "2024-07-25T14:04:05.462273Z",
     "start_time": "2024-07-25T14:04:05.455134Z"
    }
   },
   "cell_type": "code",
   "source": [
    "from sklearn.datasets import load_sample_image\n",
    "import matplotlib.pyplot as plt\n",
    "import numpy as np\n",
    "import pandas as pd\n",
    "import seaborn as sns\n"
   ],
   "id": "44e63baae301e903",
   "outputs": [],
   "execution_count": 550
  },
  {
   "metadata": {
    "ExecuteTime": {
     "end_time": "2024-07-25T14:04:05.483469Z",
     "start_time": "2024-07-25T14:04:05.464271Z"
    }
   },
   "cell_type": "code",
   "source": [
    "Kmeans=KMeans(n_clusters=3)\n",
    "Kmeans.fit(X)\n",
    "print(Kmeans.cluster_centers_)\n",
    "print(Kmeans.labels_)\n",
    "print(Kmeans.inertia_)\n"
   ],
   "id": "5058346d19f64515",
   "outputs": [
    {
     "name": "stdout",
     "output_type": "stream",
     "text": [
      "[[ 0.01439176 -0.04464164  0.02735711  0.0136209   0.02820666  0.02228029\n",
      "  -0.00818598  0.01961852  0.03201237  0.02037842]\n",
      " [-0.01993351 -0.01497517 -0.02808664 -0.0248464  -0.02801393 -0.02946049\n",
      "   0.02784636 -0.03751842 -0.03564123 -0.0273674 ]\n",
      " [ 0.01690269  0.05068012  0.0189676   0.02402605  0.01828811  0.02428923\n",
      "  -0.03177595  0.03692985  0.02592085  0.02278197]]\n",
      "[2 1 2 0 1 1 1 2 2 0 1 2 1 2 1 2 0 2 1 1 1 1 1 2 1 2 1 1 1 1 1 1 2 1 1 1 0\n",
      " 1 2 2 2 1 1 1 2 2 1 1 1 2 1 2 0 0 1 1 0 1 1 2 1 2 1 1 1 2 2 2 1 1 1 0 2 2\n",
      " 2 2 1 1 1 1 0 2 1 1 1 1 1 0 1 1 1 0 0 1 1 1 2 0 1 0 0 1 1 2 1 1 1 0 2 2 1\n",
      " 1 1 2 0 2 2 0 2 1 1 0 2 2 1 2 1 1 1 0 2 1 2 1 1 0 1 0 2 0 2 0 2 1 2 0 2 0\n",
      " 2 2 0 1 2 2 2 2 1 2 1 0 1 2 1 2 1 1 1 0 2 0 1 1 2 1 1 1 2 0 1 0 2 1 2 2 0\n",
      " 2 2 1 0 1 0 1 1 2 1 2 1 2 1 0 0 1 2 2 2 0 2 0 0 2 1 0 0 1 1 2 2 0 1 1 1 1\n",
      " 1 1 1 2 1 1 1 1 2 0 2 1 0 2 0 1 2 0 2 2 1 1 1 1 0 1 0 0 0 2 0 0 2 1 0 1 2\n",
      " 0 1 1 2 1 1 2 1 0 2 1 2 2 1 2 0 2 0 1 2 1 2 1 0 1 2 0 1 0 2 2 2 0 1 0 1 1\n",
      " 1 1 1 1 0 2 0 0 2 2 1 2 1 2 0 0 1 2 1 1 2 0 0 0 0 0 2 2 0 0 2 0 0 1 2 1 0\n",
      " 2 1 1 0 2 1 0 1 2 2 1 0 2 2 1 1 1 2 1 1 0 2 1 1 2 1 2 0 1 2 2 2 0 2 2 2 0\n",
      " 1 2 1 1 1 2 0 2 2 1 1 1 0 1 2 1 1 1 2 1 2 1 2 1 0 1 1 1 0 2 1 1 2 0 1 2 1\n",
      " 0 0 2 2 1 0 1 2 0 0 1 0 1 0 2 2 2 2 1 2 1 2 1 0 1 0 1 1 1 1 2 2 2 0 1]\n",
      "6.614284857478238\n"
     ]
    }
   ],
   "execution_count": 551
  },
  {
   "metadata": {
    "ExecuteTime": {
     "end_time": "2024-07-25T14:04:05.683362Z",
     "start_time": "2024-07-25T14:04:05.487464Z"
    }
   },
   "cell_type": "code",
   "source": [
    "plt.scatter(Kmeans.cluster_centers_[:,0],Kmeans.cluster_centers_[:,1])\n",
    "plt.scatter(Kmeans.cluster_centers_[:,0],Kmeans.cluster_centers_[:,1])\n",
    "plt.show()"
   ],
   "id": "463b260f1eb07bf6",
   "outputs": [
    {
     "data": {
      "text/plain": [
       "<Figure size 640x480 with 1 Axes>"
      ],
      "image/png": "[encoded data removed]"
     },
     "metadata": {},
     "output_type": "display_data"
    }
   ],
   "execution_count": 552
  },
  {
   "metadata": {
    "ExecuteTime": {
     "end_time": "2024-07-25T14:04:05.689263Z",
     "start_time": "2024-07-25T14:04:05.685360Z"
    }
   },
   "cell_type": "code",
   "source": "from sklearn.neighbors import KNeighborsRegressor",
   "id": "da0c51324c3249d9",
   "outputs": [],
   "execution_count": 553
  },
  {
   "metadata": {
    "ExecuteTime": {
     "end_time": "2024-07-25T14:04:05.698356Z",
     "start_time": "2024-07-25T14:04:05.693258Z"
    }
   },
   "cell_type": "code",
   "source": "import matplotlib.pylab as plt",
   "id": "aee6a9a6694a02f6",
   "outputs": [],
   "execution_count": 554
  },
  {
   "metadata": {
    "ExecuteTime": {
     "end_time": "2024-07-25T14:04:05.708695Z",
     "start_time": "2024-07-25T14:04:05.701363Z"
    }
   },
   "cell_type": "code",
   "source": "mod= KNeighborsRegressor().fit(X,Y)",
   "id": "daf9b729c7c94994",
   "outputs": [],
   "execution_count": 555
  },
  {
   "metadata": {
    "ExecuteTime": {
     "end_time": "2024-07-25T14:04:05.721948Z",
     "start_time": "2024-07-25T14:04:05.711691Z"
    }
   },
   "cell_type": "code",
   "source": "pred=mod.predict(X)",
   "id": "6f611522a79af1ce",
   "outputs": [],
   "execution_count": 556
  },
  {
   "metadata": {
    "ExecuteTime": {
     "end_time": "2024-07-25T14:04:06.073292Z",
     "start_time": "2024-07-25T14:04:05.723948Z"
    }
   },
   "cell_type": "code",
   "source": "plt.scatter(pred,Y)",
   "id": "bba817f12aa1f75c",
   "outputs": [
    {
     "data": {
      "text/plain": [
       "<matplotlib.collections.PathCollection at 0x14b8dfbcb00>"
      ]
     },
     "execution_count": 557,
     "metadata": {},
     "output_type": "execute_result"
    },
    {
     "data": {
      "text/plain": [
       "<Figure size 640x480 with 1 Axes>"
      ],
      "image/png": "[encoded data removed]"
     },
     "metadata": {},
     "output_type": "display_data"
    }
   ],
   "execution_count": 557
  },
  {
   "metadata": {
    "ExecuteTime": {
     "end_time": "2024-07-25T14:04:06.079815Z",
     "start_time": "2024-07-25T14:04:06.075293Z"
    }
   },
   "cell_type": "code",
   "source": [
    "from sklearn.pipeline import Pipeline\n",
    "from sklearn.preprocessing import StandardScaler\n",
    "from sklearn.linear_model import LogisticRegression\n",
    "\n",
    "pipeline = Pipeline([\n",
    "    ('scaler', StandardScaler()),\n",
    "    ('classifier', LogisticRegression())\n",
    "asfdsg55])"
   ],
   "id": "ebaf173d13ae5a5b",
   "outputs": [],
   "execution_count": 558
  },
  {
   "metadata": {
    "ExecuteTime": {
     "end_time": "2024-07-25T14:04:06.093835Z",
     "start_time": "2024-07-25T14:04:06.082811Z"
    }
   },
   "cell_type": "code",
   "source": "pred=mod.predict(X)",
   "id": "5badd1d9d87a2aff",
   "outputs": [],
   "execution_count": 559
  },
  {
   "metadata": {
    "ExecuteTime": {
     "end_time": "2024-07-25T14:04:06.301113Z",
     "start_time": "2024-07-25T14:04:06.095834Z"
    }
   },
   "cell_type": "code",
   "source": "plt.scatter(pred,Y)",
   "id": "a72f1eb403d05744",
   "outputs": [
    {
     "data": {
      "text/plain": [
       "<matplotlib.collections.PathCollection at 0x14b950623f0>"
      ]
     },
     "execution_count": 560,
     "metadata": {},
     "output_type": "execute_result"
    },
    {
     "data": {
      "text/plain": [
       "<Figure size 640x480 with 1 Axes>"
      ],
      "image/png": "[encoded data removed]"
     },
     "metadata": {},
     "output_type": "display_data"
    }
   ],
   "execution_count": 560
  }
 ],
 "metadata": {
  "kernelspec": {
   "display_name": "Python 3",
   "language": "python",
   "name": "python3"
  },
  "language_info": {
   "codemirror_mode": {
    "name": "ipython",
    "version": 2
   },
   "file_extension": ".py",
   "mimetype": "text/x-python",
   "name": "python",
   "nbconvert_exporter": "python",
   "pygments_lexer": "ipython2",
   "version": "2.7.6"
  }
 },
 "nbformat": 4,
 "nbformat_minor": 5
}
